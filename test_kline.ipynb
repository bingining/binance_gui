{
 "cells": [
  {
   "cell_type": "code",
   "execution_count": 527,
   "metadata": {},
   "outputs": [],
   "source": [
    "include(\"utils.jl\")\n",
    "\n",
    "const kline_limit = 100 # number of candlesticks (klines) to fetch and show\n",
    "\n",
    "coin_pair = Observable(\"ETCUSDT\")\n",
    "kline_interval = Observable(\"1m\")\n",
    "leverage = Observable(50)\n",
    "stop_loss_pct = Observable(3e-3)\n",
    "take_profit_pct = Observable(5e-3);"
   ]
  },
  {
   "cell_type": "code",
   "execution_count": 656,
   "metadata": {},
   "outputs": [],
   "source": [
    "function get_linesegs(Low, High, kline_limit)\n",
    "    linesegs = []\n",
    "    for i in 1:kline_limit\n",
    "        push!(linesegs, Point2f(i, Low[i]))\n",
    "        push!(linesegs, Point2f(i, High[i]))\n",
    "    end\n",
    "    linesegs = Point2f.(linesegs)\n",
    "end\n",
    "\n",
    "function get_ohlc(symbol, interval, limit)\n",
    "    klines = get_klines(symbol, interval=interval, limit=limit)\n",
    "    Open = parse.(Float64, [k[2] for k in klines])\n",
    "    High = parse.(Float64, [k[3] for k in klines])\n",
    "    Low = parse.(Float64, [k[4] for k in klines])\n",
    "    Close = parse.(Float64, [k[5] for k in klines])\n",
    "    colors = Close .>= Open\n",
    "\n",
    "    linesegs = get_linesegs(Low, High, limit)\n",
    "    last_price = Close[end]\n",
    "    last_color = colors[end] ? :green : :red\n",
    "    y_min = minimum(Low) * 0.997\n",
    "    y_max = maximum(High) * 1.003\n",
    "\n",
    "    Open, High, Low, Close, colors, linesegs, last_price, last_color, y_min, y_max\n",
    "end\n",
    "\n",
    "ohlcs = @lift get_ohlc($coin_pair, $kline_interval, kline_limit)\n",
    "\n",
    "Open = @lift $ohlcs[1]\n",
    "High = @lift $ohlcs[2]\n",
    "Low = @lift $ohlcs[3]\n",
    "Close = @lift $ohlcs[4]\n",
    "colors = @lift $ohlcs[5]\n",
    "linesegs = @lift $ohlcs[6]\n",
    "last_price = @lift $ohlcs[7]\n",
    "last_color = @lift $ohlcs[8]\n",
    "y_min = @lift $ohlcs[9]\n",
    "y_max = @lift $ohlcs[10];\n",
    "\n",
    "ACCI = @lift acci($Close);\n",
    "\n",
    "# true_leverage = @lift change_leverage(user, $coin_pair, $leverage);"
   ]
  },
  {
   "cell_type": "code",
   "execution_count": 658,
   "metadata": {},
   "outputs": [
    {
     "data": {
      "text/plain": [
       "Observable{Int64} with 0 listeners. Value:\n",
       "20"
      ]
     },
     "metadata": {},
     "output_type": "display_data"
    }
   ],
   "source": [
    "true_leverage"
   ]
  },
  {
   "cell_type": "code",
   "execution_count": 664,
   "metadata": {},
   "outputs": [
    {
     "data": {
      "text/plain": [
       "GLMakie.Screen(...)"
      ]
     },
     "metadata": {},
     "output_type": "display_data"
    }
   ],
   "source": [
    "fig = Figure(font=\"sans\", fontsize=20)\n",
    "vratio = 4\n",
    "hratio = 4\n",
    "\n",
    "ax1 = Axis(fig[1:vratio, 1:hratio], title=coin_pair, yaxisposition=:right)\n",
    "ax2 = Axis(fig[vratio+1, 1:hratio], title=\"CCI\", yaxisposition=:right)\n",
    "deactivate_interaction!(ax1, :rectanglezoom)\n",
    "deactivate_interaction!(ax2, :rectanglezoom)\n",
    "\n",
    "\n",
    "barplot!(ax1, 1:kline_limit, Open, fillto=Close,\n",
    "    color=colors, strokewidth=0.5, strokecolor=colors, colormap=cmap)\n",
    "linesegments!(ax1, linesegs, color=colors, colormap=cmap)\n",
    "hlines!(ax1, last_price, color=last_color, linestyle=:dash, linewidth=1)\n",
    "\n",
    "# choose Long or Short mode\n",
    "mode = Observable(\"Long\")\n",
    "text_mode = @lift $mode * \" mode\"\n",
    "text_mode_color = @lift $mode == \"Long\" ? :green : :red\n",
    "wallet_balance = Observable(get_balance(user, \"USDT\")[1])\n",
    "text_balance = @lift \"Blance = \" * string($wallet_balance) * \"USDT\"\n",
    "\n",
    "on(events(ax1).keyboardbutton) do event\n",
    "    if ispressed(fig, Keyboard.s)\n",
    "        mode[] = \"Short\"\n",
    "    elseif ispressed(fig, Keyboard.l)\n",
    "        mode[] = \"Long\"\n",
    "    end\n",
    "end\n",
    "\n",
    "# show prices along with the mouse movements\n",
    "mouse_pos = lift(events(ax1).mouseposition) do mp\n",
    "    mouseposition(ax1.scene)\n",
    "end\n",
    "\n",
    "mouse_pos_x = @lift $mouse_pos[1]\n",
    "mouse_open_price = @lift $mouse_pos[2]\n",
    "mouse_stop_loss_price = @lift $mode == \"Long\" ? $mouse_open_price * (1 - $stop_loss_pct) : $mouse_open_price * (1 + $stop_loss_pct)\n",
    "mouse_take_profit_price = @lift $mode == \"Long\" ? $mouse_open_price * (1 + $take_profit_pct) : $mouse_open_price * (1 - $take_profit_pct)\n",
    "\n",
    "vlines!(ax1, mouse_pos_x, color=:red, linestyle=:dash, linewidth=1)\n",
    "hlines!(ax1, mouse_open_price, linestyle=:dash, linewidth=1, color=:black)\n",
    "hlines!(ax1, mouse_stop_loss_price, linestyle=:dash, linewidth=1, color=:red)\n",
    "hlines!(ax1, mouse_take_profit_price, linestyle=:dash, linewidth=1, color=:green)\n",
    "\n",
    "mouse_text_coor = 30\n",
    "mouse_open_text = text!(ax1, mouse_text_coor, mouse_open_price, text=mode, color=:black)\n",
    "mouse_stop_loss_text = text!(ax1, mouse_text_coor, mouse_stop_loss_price, text=\"Stop Loss\", color=:red)\n",
    "mouse_take_profit_text = text!(ax1, mouse_text_coor, mouse_take_profit_price, text=\"Take Profit\", color=:green)\n",
    "\n",
    "x_min = -3\n",
    "x_max = 120\n",
    "scatter!(ax1, mouse_pos; markersize=10, color=:red)\n",
    "xlims!(ax1, x_min, x_max)\n",
    "ylims!(ax1, y_min[], y_max[])\n",
    "\n",
    "menu_symbol = Menu(fig, options=[\"BTCUSDT\", \"EOSUSDT\", \"ETHUSDT\", \"ETCUSDT\"], default=coin_pair[])\n",
    "menu_kline_interval = Menu(fig, options=[\"1m\", \"3m\", \"5m\", \"15m\", \"1h\", \"4h\"], default=kline_interval[])\n",
    "menu_leverage = Menu(fig, options=zip([\"10\", \"20\", \"30\", \"50\", \"75\", \"100\"], [10, 20, 30, 50, 75, 100]), default=string(leverage[]))\n",
    "menu_stop_loss = Menu(fig, options=zip([\"1\", \"2\", \"3\", \"4\", \"5\", \"10\"], [1e-3, 2e-3, 3e-3, 4e-3, 5e-3, 1e-2]), default=string(Int(stop_loss_pct[] * 1000)))\n",
    "menu_take_profit = Menu(fig, options=zip([\"1\", \"2\", \"3\", \"4\", \"5\", \"10\"], [1e-3, 2e-3, 3e-3, 4e-3, 5e-3, 1e-2]), default=string(Int(take_profit_pct[] * 1000)))\n",
    "\n",
    "\n",
    "fig[1:vratio+1, hratio+1] = vgrid!(\n",
    "    Label(fig, \"Symbol\", width=nothing), menu_symbol,\n",
    "    Label(fig, \"TimeInterval\", width=nothing), menu_kline_interval,\n",
    "    Label(fig, \"Leverage\", width=nothing), menu_leverage,\n",
    "    Label(fig, \"Stop Loss ‰\", width=nothing), menu_stop_loss,\n",
    "    Label(fig, \"Take Profit ‰\", width=nothing), menu_take_profit,\n",
    "    Label(fig, text_mode, width=nothing, color=text_mode_color),\n",
    "    Label(fig, text_balance, width=nothing),\n",
    "    Label(fig, \"UnP&L\", width=nothing),\n",
    "    Label(fig, \"PAmount\", width=nothing),\n",
    "    Label(fig, \"PPrice\", width=nothing),\n",
    "    Label(fig, \"OpenOrder\", width=nothing),\n",
    "    Label(fig, \"SLOrder\", width=nothing),\n",
    "    Label(fig, \"TPOrder\", width=nothing);\n",
    "    tellheight=false)\n",
    "\n",
    "\n",
    "\n",
    "on(menu_symbol.selection) do s\n",
    "    coin_pair[] = s\n",
    "    ylims!(ax1, y_min[], y_max[])\n",
    "end\n",
    "\n",
    "on(menu_leverage.selection) do s\n",
    "    leverage[] = s\n",
    "    change_leverage(user, coin_pair[], leverage[])\n",
    "end\n",
    "\n",
    "on(menu_stop_loss.selection) do s\n",
    "    stop_loss_pct[] = s\n",
    "end\n",
    "\n",
    "on(menu_take_profit.selection) do s\n",
    "    take_profit_pct[] = s\n",
    "end\n",
    "\n",
    "on(menu_kline_interval.selection) do s\n",
    "    kline_interval[] = s\n",
    "    ylims!(ax1, y_min[], y_max[])\n",
    "end\n",
    "\n",
    "do_long_or_short = \"long\"\n",
    "open_price = stop_loss_price = take_profit_price = 0.0\n",
    "\n",
    "is_open_order = false\n",
    "text_coor = 102 # the x-coordinate where to put the text\n",
    "sig_digits = 5 # number of significant digits\n",
    "\n",
    "on(events(ax1).keyboardbutton) do event\n",
    "    global is_open_order\n",
    "    if ispressed(fig, Keyboard.r) & (!is_open_order)\n",
    "        global open_price = mouse_open_price[]\n",
    "        global stop_loss_price = mouse_stop_loss_price[]\n",
    "        global take_profit_price = mouse_take_profit_price[]\n",
    "\n",
    "        global open_line = hlines!(ax1, open_price, color=:blue, linewidth=1)\n",
    "        global open_text = text!(ax1, text_coor, open_price, text=\"$(mode[])@$(round(open_price, sigdigits=sig_digits))\")\n",
    "        global stop_loss_line = hlines!(ax1, stop_loss_price, color=:red, linewidth=1)\n",
    "        global stop_loss_text = text!(ax1, text_coor, stop_loss_price, text=\"SL@$(round(stop_loss_price, sigdigits=sig_digits))\")\n",
    "        global take_profit_line = hlines!(ax1, take_profit_price, color=:green, linewidth=1)\n",
    "        global take_profit_text = text!(ax1, text_coor, take_profit_price, text=\"TP@$(round(take_profit_price, sigdigits=sig_digits))\")\n",
    "        global is_open_order = true\n",
    "    end\n",
    "end\n",
    "\n",
    "on(events(ax1).keyboardbutton) do event\n",
    "    if ispressed(fig, Keyboard.c)\n",
    "        delete!(ax1, open_line)\n",
    "        delete!(ax1, open_text)\n",
    "        delete!(ax1, stop_loss_line)\n",
    "        delete!(ax1, stop_loss_text)\n",
    "        delete!(ax1, take_profit_line)\n",
    "        delete!(ax1, take_profit_text)\n",
    "        global is_open_order = false\n",
    "    end\n",
    "end\n",
    "\n",
    "# CCI indicator\n",
    "lines!(ax2, ACCI, color=:blue)\n",
    "vlines!(ax2, mouse_pos_x, color=:red, linestyle=:dash, linewidth=1)\n",
    "hlines!(ax2, 0, color=:black, linestyle=:dash, linewidth=0.5)\n",
    "hlines!(ax2, -100, color=:red, linewidth=0.5)\n",
    "hlines!(ax2, 100, color=:red, linewidth=0.5)\n",
    "ylims!(ax2, -200, 200)\n",
    "linkxaxes!(ax1, ax2)\n",
    "\n",
    "# fig[4, 4] = buttongrid = GridLayout(tellwidth=false)\n",
    "\n",
    "\n",
    "# buttonlabels = [\"long\", \"short\"]\n",
    "\n",
    "# buttons = buttongrid[1:length(buttonlabels), 1] = [Button(fig, label=l, buttoncolor_active=:blue) for l in buttonlabels]\n",
    "# button_long = Button(fig, label = \"do long\")\n",
    "# button_short = Button(fig, label = \"do short\")\n",
    "\n",
    "# is_long = Observable(false)\n",
    "# on(is_long) do val # Create a listener\n",
    "#     println(\"is_long has been changed to $val\")\n",
    "# end\n",
    "\n",
    "# on(buttons[1].clicks) do clicks\n",
    "#     is_long[] = !is_long[]\n",
    "#     if is_long[]\n",
    "#         hlines!(ax, [100], color=:blue)\n",
    "#         buttons[1] = Button(fig, label=\"long2\", color=:blue)\n",
    "#     end\n",
    "# end\n",
    "\n",
    "# on(buttons[2].clicks) do clicks\n",
    "#     notify(\"short\")\n",
    "# end\n",
    "\n",
    "# run = Button(fig[4, 4]; label=\"run\", tellwidth=false)\n",
    "display(fig)"
   ]
  },
  {
   "cell_type": "code",
   "execution_count": 666,
   "metadata": {},
   "outputs": [],
   "source": [
    "tt = 1\n",
    "while tt < 100\n",
    "    coin_pair[] = coin_pair[]\n",
    "    kline_interval[] = kline_interval[]\n",
    "    ylims!(ax1, y_min[], y_max[])\n",
    "    sleep(0.005)\n",
    "    tt += 1\n",
    "end"
   ]
  },
  {
   "cell_type": "code",
   "execution_count": 495,
   "metadata": {},
   "outputs": [
    {
     "data": {
      "text/plain": [
       "\"video.mp4\""
      ]
     },
     "metadata": {},
     "output_type": "display_data"
    }
   ],
   "source": [
    "frames = 1:60\n",
    "record(fig, \"video.mp4\", frames; framerate=20) do i # i = frame number\n",
    "    coin_pair[] = coin_pair[]\n",
    "    kline_interval[] = kline_interval[]\n",
    "    ylims!(ax1, y_min[], y_max[])\n",
    "    sleep(0.005)\n",
    "    # any other manipulation of the figure here...\n",
    "end # for each step of this loop, a frame is recorded\n"
   ]
  },
  {
   "cell_type": "code",
   "execution_count": 459,
   "metadata": {},
   "outputs": [],
   "source": [
    "user = User(\"/home/czc/projects/working/stock/GridBot.jl/api_key_secrets/binance/test.json\");"
   ]
  },
  {
   "cell_type": "code",
   "execution_count": 587,
   "metadata": {},
   "outputs": [
    {
     "data": {
      "text/plain": [
       "Dict{String, Any} with 18 entries:\n",
       "  \"totalInitialMargin\"          => \"0.00000000\"\n",
       "  \"totalPositionInitialMargin\"  => \"0.00000000\"\n",
       "  \"updateTime\"                  => 0\n",
       "  \"positions\"                   => Any[Dict{String, Any}(\"askNotional\"=>\"0\", \"u…\n",
       "  \"totalCrossUnPnl\"             => \"0.00000000\"\n",
       "  \"canDeposit\"                  => true\n",
       "  \"feeTier\"                     => 0\n",
       "  \"totalWalletBalance\"          => \"1.00000000\"\n",
       "  \"canWithdraw\"                 => true\n",
       "  \"totalOpenOrderInitialMargin\" => \"0.00000000\"\n",
       "  \"totalMaintMargin\"            => \"0.00000000\"\n",
       "  \"totalMarginBalance\"          => \"1.00000000\"\n",
       "  \"totalCrossWalletBalance\"     => \"1.00000000\"\n",
       "  \"availableBalance\"            => \"1.00000000\"\n",
       "  \"maxWithdrawAmount\"           => \"1.00000000\"\n",
       "  \"assets\"                      => Any[Dict{String, Any}(\"marginAvailable\"=>tru…\n",
       "  \"totalUnrealizedProfit\"       => \"0.00000000\"\n",
       "  \"canTrade\"                    => true"
      ]
     },
     "metadata": {},
     "output_type": "display_data"
    }
   ],
   "source": [
    "account_info = get_account_info(user)"
   ]
  },
  {
   "cell_type": "code",
   "execution_count": 592,
   "metadata": {},
   "outputs": [
    {
     "data": {
      "text/plain": [
       "Dict{String, Any} with 17 entries:\n",
       "  \"askNotional\"            => \"0\"\n",
       "  \"updateTime\"             => 1661150998013\n",
       "  \"maxNotional\"            => \"10000\"\n",
       "  \"bidNotional\"            => \"0\"\n",
       "  \"positionInitialMargin\"  => \"0\"\n",
       "  \"openOrderInitialMargin\" => \"0\"\n",
       "  \"isolated\"               => true\n",
       "  \"notional\"               => \"0\"\n",
       "  \"symbol\"                 => \"ETCUSDT\"\n",
       "  \"positionAmt\"            => \"0.00\"\n",
       "  \"positionSide\"           => \"BOTH\"\n",
       "  \"unrealizedProfit\"       => \"0.00000000\"\n",
       "  \"initialMargin\"          => \"0\"\n",
       "  \"entryPrice\"             => \"0.0\"\n",
       "  \"leverage\"               => \"75\"\n",
       "  \"isolatedWallet\"         => \"0\"\n",
       "  \"maintMargin\"            => \"0\""
      ]
     },
     "metadata": {},
     "output_type": "display_data"
    }
   ],
   "source": [
    "# get positions \n",
    "filter(x -> x[\"symbol\"] == coin_pair[], account_info[\"positions\"])[1]\n"
   ]
  },
  {
   "cell_type": "code",
   "execution_count": 598,
   "metadata": {},
   "outputs": [
    {
     "data": {
      "text/plain": [
       "get_open_orders"
      ]
     },
     "metadata": {},
     "output_type": "display_data"
    }
   ],
   "source": [
    "\"\"\"\n",
    "Get open orders.\n",
    "\"\"\"\n",
    "function get_open_orders(user)\n",
    "    query = query_head()\n",
    "    signature = do_sign(query, user)\n",
    "    body = \"$BINANCE_FUTURE_BASE_URL/fapi/v1/openOrders?$query&signature=$signature\"\n",
    "    response = HTTP.request(\"GET\", body, user.headers)\n",
    "    response_to_json(response.body)\n",
    "end\n"
   ]
  },
  {
   "cell_type": "code",
   "execution_count": 599,
   "metadata": {},
   "outputs": [
    {
     "data": {
      "text/plain": [
       "Any[]"
      ]
     },
     "metadata": {},
     "output_type": "display_data"
    }
   ],
   "source": [
    "get_open_orders(user)"
   ]
  },
  {
   "cell_type": "code",
   "execution_count": 793,
   "metadata": {},
   "outputs": [
    {
     "data": {
      "text/plain": [
       "create_order_dict"
      ]
     },
     "metadata": {},
     "output_type": "display_data"
    }
   ],
   "source": [
    "\"\"\"\n",
    "Create an order dict to be executed later.\n",
    "\"\"\"\n",
    "function create_order_dict(symbol::String, order_side::String;\n",
    "    quantity::Float64=0.0, order_type::String=\"LIMIT\",\n",
    "    price::Float64=0.0, stop_price::Float64=0.0,\n",
    "    iceberg_qty::Float64=0.0, new_client_order_id::String=\"\")\n",
    "\n",
    "    if quantity <= 0.0\n",
    "        error(\"Quantity cannot be <=0 for order type.\")\n",
    "    end\n",
    "\n",
    "    println(\"$order_side => $symbol qty: $quantity, price: $price \")\n",
    "\n",
    "    order = Dict(\n",
    "        \"symbol\" => symbol,\n",
    "        \"side\" => order_side,\n",
    "        \"type\" => order_type,\n",
    "        \"quantity\" => Printf.@sprintf(\"%.8f\", quantity),\n",
    "        \"newOrderRespType\" => \"FULL\",\n",
    "        \"recvWindow\" => 60000\n",
    "    )\n",
    "\n",
    "    if new_client_order_id != \"\"\n",
    "        order[\"newClientOrderId\"] = new_client_order_id\n",
    "    end\n",
    "\n",
    "    if order_type in [\"LIMIT\", order_type == \"LIMIT_MAKER\"]\n",
    "        if price <= 0.0\n",
    "            error(\"Price cannot be <= 0 for order type.\")\n",
    "        end\n",
    "\n",
    "        if price * quantity < 5.0\n",
    "            error(\"Order's notional must be no smaller than 5.0 (unless you choose reduce only)\")\n",
    "        end\n",
    "\n",
    "        order[\"price\"] = Printf.@sprintf(\"%.8f\", price)\n",
    "    end\n",
    "\n",
    "    if order_type == \"STOP_LOSS\" || order_type == \"TAKE_PROFIT\"\n",
    "        if stop_price <= 0.0\n",
    "            error(\"Stop price cannot be <= 0 for order type.\")\n",
    "        end\n",
    "        order[\"stopPrice\"] = Printf.@sprintf(\"%.8f\", stop_price)\n",
    "    end\n",
    "\n",
    "    if order_type in [\"STOP_LOSS_LIMIT\", \"TAKE_PROFIT_LIMIT\"]\n",
    "        # if price <= 0.0 || stop_price <= 0.0\n",
    "        #     error(\"Price or stop price cannot be <= 0 for order type.\")\n",
    "        # end\n",
    "        order[\"price\"] = Printf.@sprintf(\"%.8f\", price)\n",
    "        order[\"stopPrice\"] = Printf.@sprintf(\"%.8f\", stop_price)\n",
    "    end\n",
    "\n",
    "    if order_type == \"TAKE_PROFIT\"\n",
    "        if price <= 0.0 || stop_price <= 0.0\n",
    "            error(\"Price or stop price cannot be <= 0 for STOP_LOSS_LIMIT order type.\")\n",
    "        end\n",
    "        order[\"price\"] = Printf.@sprintf(\"%.8f\", price)\n",
    "        order[\"stopPrice\"] = Printf.@sprintf(\"%.8f\", stop_price)\n",
    "    end\n",
    "\n",
    "    if order_type in [\"LIMIT\", \"STOP_LOSS_LIMIT\", \"TAKE_PROFIT_LIMIT\"]\n",
    "        order[\"timeInForce\"] = \"GTC\"\n",
    "    end\n",
    "\n",
    "    order\n",
    "end\n"
   ]
  },
  {
   "cell_type": "code",
   "execution_count": 794,
   "metadata": {},
   "outputs": [
    {
     "data": {
      "text/plain": [
       "\"ETCUSDT\""
      ]
     },
     "metadata": {},
     "output_type": "display_data"
    }
   ],
   "source": [
    "coin_pair[]"
   ]
  },
  {
   "cell_type": "code",
   "execution_count": 805,
   "metadata": {},
   "outputs": [
    {
     "name": "stdout",
     "output_type": "stream",
     "text": [
      "BUY => ETCUSDT qty: 0.2, price: 32.0 \n"
     ]
    },
    {
     "data": {
      "text/plain": [
       "Dict{String, Any} with 9 entries:\n",
       "  \"price\"            => \"32.00000000\"\n",
       "  \"timeInForce\"      => \"GTC\"\n",
       "  \"side\"             => \"BUY\"\n",
       "  \"newOrderRespType\" => \"FULL\"\n",
       "  \"symbol\"           => \"ETCUSDT\"\n",
       "  \"recvWindow\"       => 60000\n",
       "  \"newClientOrderId\" => \"limit_long\"\n",
       "  \"type\"             => \"LIMIT\"\n",
       "  \"quantity\"         => \"0.20000000\""
      ]
     },
     "metadata": {},
     "output_type": "display_data"
    }
   ],
   "source": [
    "order0 = create_order_dict(coin_pair[], \"BUY\";\n",
    "        quantity=0.2, order_type=\"LIMIT\",\n",
    "        price=32.0)\n",
    "\n",
    "# order1 = create_order_dict(coin_pair[], \"SELL\";\n",
    "#         quantity=string2float(get_position(user, coin_pair[])[1][\"positionAmt\"]), order_type=\"LIMIT\",\n",
    "#         price=32.699)\n",
    "\n",
    "# order1[\"positionSide\"] = \"LONG\"\n",
    "# order1[\"stopPrice\"] = 32.841\n",
    "# order1[\"type\"] = \"LIMIT\"\n",
    "# order1[\"reduceOnly\"] = \"true\"\n",
    "# order1[\"closePosition\"] = \"true\"\n",
    "# order1\n",
    "\n",
    "order0[\"newClientOrderId\"] = \"limit_long\"\n",
    "order0"
   ]
  },
  {
   "cell_type": "code",
   "execution_count": 807,
   "metadata": {},
   "outputs": [
    {
     "data": {
      "text/plain": [
       "Dict{String, Any} with 21 entries:\n",
       "  \"price\"         => \"32\"\n",
       "  \"timeInForce\"   => \"GTC\"\n",
       "  \"priceProtect\"  => false\n",
       "  \"orderId\"       => 13409708101\n",
       "  \"executedQty\"   => \"0\"\n",
       "  \"updateTime\"    => 1661695608410\n",
       "  \"clientOrderId\" => \"limit_long\"\n",
       "  \"stopPrice\"     => \"0\"\n",
       "  \"status\"        => \"NEW\"\n",
       "  \"origType\"      => \"LIMIT\"\n",
       "  \"avgPrice\"      => \"0.00000\"\n",
       "  \"cumQty\"        => \"0\"\n",
       "  \"cumQuote\"      => \"0\"\n",
       "  \"reduceOnly\"    => false\n",
       "  \"closePosition\" => false\n",
       "  \"symbol\"        => \"ETCUSDT\"\n",
       "  \"positionSide\"  => \"BOTH\"\n",
       "  \"origQty\"       => \"0.20\"\n",
       "  \"side\"          => \"BUY\"\n",
       "  ⋮               => ⋮"
      ]
     },
     "metadata": {},
     "output_type": "display_data"
    }
   ],
   "source": [
    "order = execute_order(order0, user)"
   ]
  },
  {
   "cell_type": "code",
   "execution_count": 808,
   "metadata": {},
   "outputs": [
    {
     "data": {
      "text/plain": [
       "Dict{String, Any} with 21 entries:\n",
       "  \"price\"         => \"32\"\n",
       "  \"timeInForce\"   => \"GTC\"\n",
       "  \"priceProtect\"  => false\n",
       "  \"orderId\"       => 13409708101\n",
       "  \"executedQty\"   => \"0\"\n",
       "  \"updateTime\"    => 1661695670113\n",
       "  \"clientOrderId\" => \"limit_long\"\n",
       "  \"stopPrice\"     => \"0\"\n",
       "  \"status\"        => \"CANCELED\"\n",
       "  \"origType\"      => \"LIMIT\"\n",
       "  \"avgPrice\"      => \"0.00000\"\n",
       "  \"cumQty\"        => \"0\"\n",
       "  \"cumQuote\"      => \"0\"\n",
       "  \"reduceOnly\"    => false\n",
       "  \"closePosition\" => false\n",
       "  \"symbol\"        => \"ETCUSDT\"\n",
       "  \"positionSide\"  => \"BOTH\"\n",
       "  \"origQty\"       => \"0.20\"\n",
       "  \"side\"          => \"BUY\"\n",
       "  ⋮               => ⋮"
      ]
     },
     "metadata": {},
     "output_type": "display_data"
    }
   ],
   "source": [
    "cancel_order(order, user)"
   ]
  },
  {
   "cell_type": "code",
   "execution_count": 671,
   "metadata": {},
   "outputs": [
    {
     "data": {
      "text/plain": [
       "execute_order"
      ]
     },
     "metadata": {},
     "output_type": "display_data"
    }
   ],
   "source": [
    "\"\"\"\n",
    "Execute an order to the account.\n",
    "\"\"\"\n",
    "function execute_order(order::Dict, user::User)\n",
    "    order_params = order_dict_to_params(order)\n",
    "    query = \"$order_params&timestamp=$(timestamp_now())\"\n",
    "    signature = do_sign(query, user)\n",
    "    body = \"$BINANCE_FUTURE_ORDER_URL?$query&signature=$signature\"   \n",
    "    response = HTTP.request(\"POST\", body, user.headers)\n",
    "    response_to_json(response.body)\n",
    "end\n",
    "\n"
   ]
  },
  {
   "cell_type": "code",
   "execution_count": 680,
   "metadata": {},
   "outputs": [
    {
     "data": {
      "text/plain": [
       "cancel_order"
      ]
     },
     "metadata": {},
     "output_type": "display_data"
    }
   ],
   "source": [
    "\n",
    "\"\"\"\n",
    "Cancel an order from user.\n",
    "\"\"\"\n",
    "function cancel_order(order, user)\n",
    "    query = \"recvWindow=50000&timestamp=$(timestamp_now())&symbol=$(order[\"symbol\"])&origClientOrderId=$(order[\"clientOrderId\"])\"\n",
    "    signature = do_sign(query, user)\n",
    "    body = \"$BINANCE_FUTURE_ORDER_URL?$query&signature=$signature\"\n",
    "    response = HTTP.request(\"DELETE\", body, user.headers)\n",
    "    response_to_json(response.body)\n",
    "end"
   ]
  },
  {
   "cell_type": "code",
   "execution_count": 613,
   "metadata": {},
   "outputs": [],
   "source": [
    "change_multi_assets_mode(user, \"single\")\n",
    "change_position_mode(user, \"hedge\")"
   ]
  },
  {
   "cell_type": "code",
   "execution_count": 622,
   "metadata": {},
   "outputs": [
    {
     "data": {
      "text/plain": [
       "get_position (generic function with 2 methods)"
      ]
     },
     "metadata": {},
     "output_type": "display_data"
    }
   ],
   "source": [
    "# Get current position information.\n",
    "function get_position(user, symbol)\n",
    "    query = \"$(query_head())&symbol=$symbol\"\n",
    "    signature = do_sign(query, user)\n",
    "    body = \"$BINANCE_FUTURE_BASE_URL/fapi/v2/positionRisk?$query&signature=$signature\"\n",
    "    response = HTTP.request(\"GET\", body, user.headers)\n",
    "    response_to_json(response.body)\n",
    "end\n",
    "\n",
    "function get_position(user)\n",
    "    query = \"$(query_head())\"\n",
    "    signature = do_sign(query, user)\n",
    "    body = \"$BINANCE_FUTURE_BASE_URL/fapi/v2/positionRisk?$query&signature=$signature\"\n",
    "    response = HTTP.request(\"GET\", body, user.headers)\n",
    "    response_to_json(response.body)\n",
    "end"
   ]
  },
  {
   "cell_type": "code",
   "execution_count": 624,
   "metadata": {},
   "outputs": [
    {
     "data": {
      "text/plain": [
       "Dict{String, Any} with 15 entries:\n",
       "  \"isolatedMargin\"   => \"0.00000000\"\n",
       "  \"updateTime\"       => 0\n",
       "  \"maxNotionalValue\" => \"25000\"\n",
       "  \"liquidationPrice\" => \"0\"\n",
       "  \"marginType\"       => \"cross\"\n",
       "  \"notional\"         => \"0\"\n",
       "  \"isAutoAddMargin\"  => \"false\"\n",
       "  \"symbol\"           => \"RAYUSDT\"\n",
       "  \"positionAmt\"      => \"0.0\"\n",
       "  \"positionSide\"     => \"LONG\"\n",
       "  \"markPrice\"        => \"0.00000000\"\n",
       "  \"entryPrice\"       => \"0.0\"\n",
       "  \"leverage\"         => \"20\"\n",
       "  \"unRealizedProfit\" => \"0.00000000\"\n",
       "  \"isolatedWallet\"   => \"0\""
      ]
     },
     "metadata": {},
     "output_type": "display_data"
    }
   ],
   "source": [
    "get_position(user)[1]"
   ]
  },
  {
   "cell_type": "code",
   "execution_count": 785,
   "metadata": {},
   "outputs": [
    {
     "data": {
      "text/plain": [
       "0.94"
      ]
     },
     "metadata": {},
     "output_type": "display_data"
    }
   ],
   "source": [
    "string2float(get_position(user, coin_pair[])[1][\"positionAmt\"])"
   ]
  },
  {
   "cell_type": "code",
   "execution_count": 647,
   "metadata": {},
   "outputs": [],
   "source": [
    "change_leverage(user, coin_pair[], 75)\n",
    "change_margin_mode(user, coin_pair[], \"ISOLATED\")\n",
    "change_position_mode(user, \"dual\")"
   ]
  },
  {
   "cell_type": "code",
   "execution_count": 809,
   "metadata": {},
   "outputs": [
    {
     "data": {
      "text/plain": [
       "get_Binance_info"
      ]
     },
     "metadata": {},
     "output_type": "display_data"
    }
   ],
   "source": [
    "\n",
    "\"\"\"\n",
    "Get Binance information.\n",
    "\"\"\"\n",
    "get_Binance_info() = request_get(BINANCE_FUTURE_EXCHANGEINFO_URL)\n"
   ]
  },
  {
   "cell_type": "code",
   "execution_count": 811,
   "metadata": {},
   "outputs": [
    {
     "data": {
      "text/plain": [
       "Dict{String, Any} with 7 entries:\n",
       "  \"symbols\"         => Any[Dict{String, Any}(\"orderTypes\"=>Any[\"LIMIT\", \"MARKET…\n",
       "  \"rateLimits\"      => Any[Dict{String, Any}(\"intervalNum\"=>1, \"interval\"=>\"MIN…\n",
       "  \"exchangeFilters\" => Any[]\n",
       "  \"serverTime\"      => 1661695211722\n",
       "  \"timezone\"        => \"UTC\"\n",
       "  \"futuresType\"     => \"U_MARGINED\"\n",
       "  \"assets\"          => Any[Dict{String, Any}(\"autoAssetExchange\"=>\"-10000\", \"as…"
      ]
     },
     "metadata": {},
     "output_type": "display_data"
    }
   ],
   "source": [
    "tt = get_Binance_info()"
   ]
  },
  {
   "cell_type": "code",
   "execution_count": 815,
   "metadata": {},
   "outputs": [
    {
     "name": "stdout",
     "output_type": "stream",
     "text": [
      "keys((tt[\"symbols\"])[1]) = [\"orderTypes\", \"timeInForce\", \"deliveryDate\", \"marginAsset\", \"triggerProtect\", \"contractType\", \"underlyingSubType\", \"underlyingType\", \"baseAssetPrecision\", \"quoteAsset\", \"pair\", \"status\", \"liquidationFee\", \"quantityPrecision\", \"pricePrecision\", \"symbol\", \"onboardDate\", \"marketTakeBound\", \"filters\", \"baseAsset\", \"settlePlan\", \"quotePrecision\", \"requiredMarginPercent\", \"maintMarginPercent\"]\n"
     ]
    },
    {
     "data": {
      "text/plain": [
       "KeySet for a Dict{String, Any} with 24 entries. Keys:\n",
       "  \"orderTypes\"\n",
       "  \"timeInForce\"\n",
       "  \"deliveryDate\"\n",
       "  \"marginAsset\"\n",
       "  \"triggerProtect\"\n",
       "  \"contractType\"\n",
       "  \"underlyingSubType\"\n",
       "  \"underlyingType\"\n",
       "  \"baseAssetPrecision\"\n",
       "  \"quoteAsset\"\n",
       "  \"pair\"\n",
       "  \"status\"\n",
       "  \"liquidationFee\"\n",
       "  \"quantityPrecision\"\n",
       "  \"pricePrecision\"\n",
       "  \"symbol\"\n",
       "  \"onboardDate\"\n",
       "  \"marketTakeBound\"\n",
       "  \"filters\"\n",
       "  ⋮"
      ]
     },
     "metadata": {},
     "output_type": "display_data"
    }
   ],
   "source": [
    "@show keys(tt[\"symbols\"][1])"
   ]
  },
  {
   "cell_type": "code",
   "execution_count": 816,
   "metadata": {},
   "outputs": [
    {
     "data": {
      "text/plain": [
       "Dict{String, Any} with 24 entries:\n",
       "  \"orderTypes\"         => Any[\"LIMIT\", \"MARKET\", \"STOP\", \"STOP_MARKET\", \"TAKE_P…\n",
       "  \"timeInForce\"        => Any[\"GTC\", \"IOC\", \"FOK\", \"GTX\"]\n",
       "  \"deliveryDate\"       => 4133404800000\n",
       "  \"marginAsset\"        => \"USDT\"\n",
       "  \"triggerProtect\"     => \"0.0500\"\n",
       "  \"contractType\"       => \"PERPETUAL\"\n",
       "  \"underlyingSubType\"  => Any[\"PoW\"]\n",
       "  \"underlyingType\"     => \"COIN\"\n",
       "  \"baseAssetPrecision\" => 8\n",
       "  \"quoteAsset\"         => \"USDT\"\n",
       "  \"pair\"               => \"BTCUSDT\"\n",
       "  \"status\"             => \"TRADING\"\n",
       "  \"liquidationFee\"     => \"0.015000\"\n",
       "  \"quantityPrecision\"  => 3\n",
       "  \"pricePrecision\"     => 2\n",
       "  \"symbol\"             => \"BTCUSDT\"\n",
       "  \"onboardDate\"        => 1569398400000\n",
       "  \"marketTakeBound\"    => \"0.05\"\n",
       "  \"filters\"            => Any[Dict{String, Any}(\"maxPrice\"=>\"4529764\", \"filterT…\n",
       "  ⋮                    => ⋮"
      ]
     },
     "metadata": {},
     "output_type": "display_data"
    }
   ],
   "source": [
    "tt[\"symbols\"][1]"
   ]
  },
  {
   "cell_type": "code",
   "execution_count": null,
   "metadata": {},
   "outputs": [],
   "source": []
  }
 ],
 "metadata": {
  "kernelspec": {
   "display_name": "Julia 1.8.0",
   "language": "julia",
   "name": "julia-1.8"
  },
  "language_info": {
   "file_extension": ".jl",
   "mimetype": "application/julia",
   "name": "julia",
   "version": "1.8.0"
  },
  "orig_nbformat": 4
 },
 "nbformat": 4,
 "nbformat_minor": 2
}
