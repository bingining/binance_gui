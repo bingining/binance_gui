{
 "cells": [
  {
   "cell_type": "code",
   "execution_count": 354,
   "metadata": {},
   "outputs": [
    {
     "data": {
      "text/plain": [
       "Observable{Int64} with 0 listeners. Value:\n",
       "2"
      ]
     },
     "execution_count": 354,
     "metadata": {},
     "output_type": "execute_result"
    }
   ],
   "source": [
    "include(\"utils.jl\")\n",
    "\n",
    "const kline_limit = 100 # number of candlesticks (klines) to fetch and show\n",
    "\n",
    "coin_pair = Observable(\"ETCUSDT\")\n",
    "kline_interval = Observable(\"1m\")\n",
    "leverage = Observable(75)\n",
    "stop_pct = Observable(3e-3)\n",
    "profit_pct = Observable(5e-3);\n",
    "\n",
    "price_quantity_presions = @lift get_presions($coin_pair)\n",
    "price_precision = @lift $price_quantity_presions[1]\n",
    "quantity_precision = @lift $price_quantity_presions[2]"
   ]
  },
  {
   "cell_type": "code",
   "execution_count": 355,
   "metadata": {},
   "outputs": [
    {
     "data": {
      "text/plain": [
       "2-element Vector{Symbol}:\n",
       " :red\n",
       " :green"
      ]
     },
     "execution_count": 355,
     "metadata": {},
     "output_type": "execute_result"
    }
   ],
   "source": [
    "function get_linesegs(Low, High, kline_limit)\n",
    "    linesegs = []\n",
    "    for i in 1:kline_limit\n",
    "        push!(linesegs, Point2f(i, Low[i]))\n",
    "        push!(linesegs, Point2f(i, High[i]))\n",
    "    end\n",
    "    linesegs = Point2f.(linesegs)\n",
    "end\n",
    "\n",
    "function get_ohlc(symbol, interval, limit)\n",
    "    klines = get_klines(symbol, interval=interval, limit=limit)\n",
    "    Open = parse.(Float64, [k[2] for k in klines])\n",
    "    High = parse.(Float64, [k[3] for k in klines])\n",
    "    Low = parse.(Float64, [k[4] for k in klines])\n",
    "    Close = parse.(Float64, [k[5] for k in klines])\n",
    "    colors = Close .>= Open\n",
    "\n",
    "    linesegs = get_linesegs(Low, High, limit)\n",
    "    last_price = Close[end]\n",
    "    last_color = colors[end] ? :green : :red\n",
    "    y_min = minimum(Low) * 0.997\n",
    "    y_max = maximum(High) * 1.003\n",
    "\n",
    "    Open, High, Low, Close, colors, linesegs, last_price, last_color, y_min, y_max\n",
    "end\n",
    "\n",
    "ohlcs = @lift get_ohlc($coin_pair, $kline_interval, kline_limit)\n",
    "\n",
    "Open = @lift $ohlcs[1]\n",
    "High = @lift $ohlcs[2]\n",
    "Low = @lift $ohlcs[3]\n",
    "Close = @lift $ohlcs[4]\n",
    "colors = @lift $ohlcs[5]\n",
    "linesegs = @lift $ohlcs[6]\n",
    "last_price = @lift $ohlcs[7]\n",
    "last_color = @lift $ohlcs[8]\n",
    "y_min = @lift $ohlcs[9]\n",
    "y_max = @lift $ohlcs[10];\n",
    "\n",
    "ACCI = @lift acci($Close);\n",
    "\n",
    "cmap = [:red, :green]\n",
    "\n",
    "# true_leverage = @lift change_leverage(user, $coin_pair, $leverage);"
   ]
  },
  {
   "cell_type": "code",
   "execution_count": 356,
   "metadata": {},
   "outputs": [],
   "source": [
    "user = User(\"api_key.json\");\n",
    "account_info = get_account_info(user)\n",
    "change_leverage(user, coin_pair[], 75)\n",
    "change_margin_mode(user, coin_pair[], \"ISOLATED\")\n",
    "change_multi_assets_mode(user, \"single\")\n",
    "change_position_mode(user, \"hedge\")"
   ]
  },
  {
   "cell_type": "code",
   "execution_count": 384,
   "metadata": {},
   "outputs": [
    {
     "data": {
      "text/plain": [
       "Observable{Float64} with 0 listeners. Value:\n",
       "-0.008"
      ]
     },
     "execution_count": 384,
     "metadata": {},
     "output_type": "execute_result"
    }
   ],
   "source": [
    "position = Observable(get_current_position(user, coin_pair[]))\n",
    "position_amount = @lift isempty($position) ? 0.0 : round(string2float($position[\"positionAmt\"]), digits=$quantity_precision)\n",
    "liq_price = @lift isempty($position) ? 0.0 : round(string2float($position[\"liquidationPrice\"]), digits=$price_precision)\n",
    "unPnL = @lift isempty($position) ? 0.0 : round(string2float($position[\"unRealizedProfit\"]), digits=3)"
   ]
  },
  {
   "cell_type": "code",
   "execution_count": 330,
   "metadata": {},
   "outputs": [
    {
     "data": {
      "text/plain": [
       "GLMakie.Screen(...)"
      ]
     },
     "execution_count": 330,
     "metadata": {},
     "output_type": "execute_result"
    }
   ],
   "source": [
    "fig = Figure(font=\"sans\", fontsize=20)\n",
    "vratio = 4\n",
    "hratio = 4\n",
    "\n",
    "ax1 = Axis(fig[1:vratio, 1:hratio], title=coin_pair, yaxisposition=:right)\n",
    "ax2 = Axis(fig[vratio+1, 1:hratio], title=\"CCI\", yaxisposition=:right)\n",
    "deactivate_interaction!(ax1, :rectanglezoom)\n",
    "deactivate_interaction!(ax2, :rectanglezoom)\n",
    "\n",
    "\n",
    "barplot!(ax1, 1:kline_limit, Open, fillto=Close,\n",
    "    color=colors, strokewidth=0.5, strokecolor=colors, colormap=cmap)\n",
    "linesegments!(ax1, linesegs, color=colors, colormap=cmap)\n",
    "hlines!(ax1, last_price, color=last_color, linestyle=:dash, linewidth=1)\n",
    "\n",
    "# choose Long or Short mode\n",
    "long_or_short = Observable(\"LONG\")\n",
    "text_long_or_short = @lift $long_or_short * \" mode\"\n",
    "text_long_or_short_color = @lift $long_or_short == \"LONG\" ? :green : :red\n",
    "\n",
    "on(events(ax1).keyboardbutton) do event\n",
    "    if ispressed(fig, Keyboard.s)\n",
    "        long_or_short[] = \"SHORT\"\n",
    "    elseif ispressed(fig, Keyboard.l)\n",
    "        long_or_short[] = \"LONG\"\n",
    "    end\n",
    "end\n",
    "\n",
    "# show prices along with the mouse movements\n",
    "mouse_pos = lift(events(ax1).mouseposition) do mp\n",
    "    mouseposition(ax1.scene)\n",
    "end\n",
    "\n",
    "mouse_pos_x = @lift $mouse_pos[1]\n",
    "mouse_open_price = @lift $mouse_pos[2]\n",
    "mouse_stop_price = @lift $long_or_short == \"LONG\" ? $mouse_open_price * (1 - $stop_pct) : $mouse_open_price * (1 + $stop_pct)\n",
    "mouse_profit_price = @lift $long_or_short == \"LONG\" ? $mouse_open_price * (1 + $profit_pct) : $mouse_open_price * (1 - $profit_pct)\n",
    "\n",
    "vlines!(ax1, mouse_pos_x, color=:red, linestyle=:dash, linewidth=1)\n",
    "hlines!(ax1, mouse_open_price, linestyle=:dash, linewidth=1, color=:black)\n",
    "hlines!(ax1, mouse_stop_price, linestyle=:dash, linewidth=1, color=:red)\n",
    "hlines!(ax1, mouse_profit_price, linestyle=:dash, linewidth=1, color=:green)\n",
    "\n",
    "mouse_text_coor = 30\n",
    "mouse_open_text = text!(ax1, mouse_text_coor, mouse_open_price, text=long_or_short, color=:black)\n",
    "mouse_stop_text = text!(ax1, mouse_text_coor, mouse_stop_price, text=\"Stop\", color=:red)\n",
    "mouse_profit_text = text!(ax1, mouse_text_coor, mouse_profit_price, text=\"Profit\", color=:green)\n",
    "\n",
    "x_min = -3\n",
    "x_max = 120\n",
    "scatter!(ax1, mouse_pos; markersize=10, color=:red)\n",
    "xlims!(ax1, x_min, x_max)\n",
    "ylims!(ax1, y_min[], y_max[])\n",
    "\n",
    "menu_symbol = Menu(fig, options=[\"BTCUSDT\", \"EOSUSDT\", \"ETHUSDT\", \"ETCUSDT\"], default=coin_pair[])\n",
    "menu_kline_interval = Menu(fig, options=[\"1m\", \"3m\", \"5m\", \"15m\", \"1h\", \"4h\"], default=kline_interval[])\n",
    "menu_leverage = Menu(fig, options=zip([\"10\", \"20\", \"30\", \"50\", \"75\", \"100\"], [10, 20, 30, 50, 75, 100]), default=string(leverage[]))\n",
    "menu_stop = Menu(fig, options=zip([\"1\", \"2\", \"3\", \"4\", \"5\", \"10\"], [1e-3, 2e-3, 3e-3, 4e-3, 5e-3, 1e-2]), default=string(Int(stop_pct[] * 1000)))\n",
    "menu_profit = Menu(fig, options=zip([\"1\", \"2\", \"3\", \"4\", \"5\", \"10\"], [1e-3, 2e-3, 3e-3, 4e-3, 5e-3, 1e-2]), default=string(Int(profit_pct[] * 1000)))\n",
    "\n",
    "balances = Observable(get_balance(user, \"USDT\"))\n",
    "\n",
    "wallet_balance = @lift round($balances[1], digits=2)\n",
    "text_balance = @lift \"Blance = \" * string($wallet_balance) * \"USDT\"\n",
    "\n",
    "unPnL = @lift round($balances[4], digits=2)\n",
    "text_unPnL = @lift \"UnPnL = \" * string($unPnL) * \"USDT\"\n",
    "\n",
    "fig[1:vratio+1, hratio+1] = vgrid!(\n",
    "    Label(fig, \"Symbol\", width=nothing), menu_symbol,\n",
    "    Label(fig, \"TimeInterval\", width=nothing), menu_kline_interval,\n",
    "    Label(fig, \"Leverage\", width=nothing), menu_leverage,\n",
    "    Label(fig, \"Stop ‰\", width=nothing), menu_stop,\n",
    "    Label(fig, \"Profit ‰\", width=nothing), menu_profit,\n",
    "    Label(fig, text_long_or_short, width=nothing, color=text_long_or_short_color),\n",
    "    Label(fig, text_balance, width=nothing),\n",
    "    Label(fig, text_unPnL, width=nothing),\n",
    "    Label(fig, \"PAmount\", width=nothing),\n",
    "    Label(fig, \"PPrice\", width=nothing),\n",
    "    Label(fig, \"OpenOrder\", width=nothing),\n",
    "    Label(fig, \"SLOrder\", width=nothing),\n",
    "    Label(fig, \"TPOrder\", width=nothing);\n",
    "    tellheight=false)\n",
    "\n",
    "\n",
    "\n",
    "on(menu_symbol.selection) do s\n",
    "    coin_pair[] = s\n",
    "    ylims!(ax1, y_min[], y_max[])\n",
    "end\n",
    "\n",
    "on(menu_leverage.selection) do s\n",
    "    leverage[] = s\n",
    "    change_leverage(user, coin_pair[], leverage[])\n",
    "end\n",
    "\n",
    "on(menu_stop.selection) do s\n",
    "    stop_pct[] = s\n",
    "end\n",
    "\n",
    "on(menu_profit.selection) do s\n",
    "    profit_pct[] = s\n",
    "end\n",
    "\n",
    "on(menu_kline_interval.selection) do s\n",
    "    kline_interval[] = s\n",
    "    ylims!(ax1, y_min[], y_max[])\n",
    "end\n",
    "\n",
    "\n",
    "open_price = stop_price = profit_price = 0.0\n",
    "\n",
    "is_open_order = false\n",
    "text_coor = 102 # the x-coordinate where to put the text\n",
    "sig_digits = 5 # number of significant digits\n",
    "\n",
    "on(events(ax1).keyboardbutton) do event\n",
    "    global is_open_order\n",
    "    if ispressed(fig, Keyboard.r) & (!is_open_order)\n",
    "        global open_price = round(mouse_open_price[], digits=price_precision[])\n",
    "        global stop_price = round(mouse_stop_price[], digits=price_precision[]) \n",
    "        global profit_price = round(mouse_profit_price[], digits=price_precision[])\n",
    "\n",
    "        global open_line = hlines!(ax1, open_price, color=:blue, linewidth=1)\n",
    "        global open_text = text!(ax1, text_coor, open_price, text=\"$(long_or_short[])@$open_price\")\n",
    "        global stop_line = hlines!(ax1, stop_price, color=:red, linewidth=1)\n",
    "        global stop_text = text!(ax1, text_coor, stop_price, text=\"SL@$stop_price\")\n",
    "        global profit_line = hlines!(ax1, profit_price, color=:green, linewidth=1)\n",
    "        global profit_text = text!(ax1, text_coor, profit_price, text=\"TP@$profit_price\")\n",
    "        global is_open_order = true\n",
    "    end\n",
    "end\n",
    "\n",
    "on(events(ax1).keyboardbutton) do event\n",
    "    if ispressed(fig, Keyboard.c)\n",
    "        delete!(ax1, open_line)\n",
    "        delete!(ax1, open_text)\n",
    "        delete!(ax1, stop_line)\n",
    "        delete!(ax1, stop_text)\n",
    "        delete!(ax1, profit_line)\n",
    "        delete!(ax1, profit_text)\n",
    "        global is_open_order = false\n",
    "    end\n",
    "end\n",
    "\n",
    "# CCI indicator\n",
    "lines!(ax2, ACCI, color=:blue)\n",
    "vlines!(ax2, mouse_pos_x, color=:red, linestyle=:dash, linewidth=1)\n",
    "hlines!(ax2, 0, color=:black, linestyle=:dash, linewidth=0.5)\n",
    "hlines!(ax2, -100, color=:red, linewidth=0.5)\n",
    "hlines!(ax2, 100, color=:red, linewidth=0.5)\n",
    "ylims!(ax2, -200, 200)\n",
    "linkxaxes!(ax1, ax2)\n",
    "\n",
    "# fig[4, 4] = buttongrid = GridLayout(tellwidth=false)\n",
    "\n",
    "\n",
    "# buttonlabels = [\"long\", \"short\"]\n",
    "\n",
    "# buttons = buttongrid[1:length(buttonlabels), 1] = [Button(fig, label=l, buttoncolor_active=:blue) for l in buttonlabels]\n",
    "# button_long = Button(fig, label = \"do long\")\n",
    "# button_short = Button(fig, label = \"do short\")\n",
    "\n",
    "# is_long = Observable(false)\n",
    "# on(is_long) do val # Create a listener\n",
    "#     println(\"is_long has been changed to $val\")\n",
    "# end\n",
    "\n",
    "# on(buttons[1].clicks) do clicks\n",
    "#     is_long[] = !is_long[]\n",
    "#     if is_long[]\n",
    "#         hlines!(ax, [100], color=:blue)\n",
    "#         buttons[1] = Button(fig, label=\"long2\", color=:blue)\n",
    "#     end\n",
    "# end\n",
    "\n",
    "# on(buttons[2].clicks) do clicks\n",
    "#     notify(\"short\")\n",
    "# end\n",
    "\n",
    "# run = Button(fig[4, 4]; label=\"run\", tellwidth=false)\n",
    "display(fig)"
   ]
  },
  {
   "cell_type": "code",
   "execution_count": 14,
   "metadata": {},
   "outputs": [],
   "source": [
    "tt = 1\n",
    "while tt < 200\n",
    "    coin_pair[] = coin_pair[]\n",
    "    kline_interval[] = kline_interval[]\n",
    "    ylims!(ax1, y_min[], y_max[])\n",
    "    sleep(0.005)\n",
    "    tt += 1\n",
    "end"
   ]
  },
  {
   "cell_type": "code",
   "execution_count": 495,
   "metadata": {},
   "outputs": [
    {
     "data": {
      "text/plain": [
       "\"video.mp4\""
      ]
     },
     "metadata": {},
     "output_type": "display_data"
    }
   ],
   "source": [
    "# frames = 1:60\n",
    "# record(fig, \"video.mp4\", frames; framerate=20) do i # i = frame number\n",
    "#     coin_pair[] = coin_pair[]\n",
    "#     kline_interval[] = kline_interval[]\n",
    "#     ylims!(ax1, y_min[], y_max[])\n",
    "#     sleep(0.005)\n",
    "#     # any other manipulation of the figure here...\n",
    "# end # for each step of this loop, a frame is recorded\n"
   ]
  },
  {
   "cell_type": "code",
   "execution_count": 260,
   "metadata": {},
   "outputs": [
    {
     "data": {
      "text/plain": [
       "1-element Vector{Any}:\n",
       " Dict{String, Any}(\"price\" => \"0\", \"timeInForce\" => \"GTC\", \"time\" => 1661938173382, \"priceProtect\" => false, \"orderId\" => 13519195798, \"executedQty\" => \"0\", \"updateTime\" => 1661938173382, \"clientOrderId\" => \"stop\", \"stopPrice\" => \"32.516\", \"status\" => \"NEW\"…)"
      ]
     },
     "execution_count": 260,
     "metadata": {},
     "output_type": "execute_result"
    }
   ],
   "source": [
    "get_open_orders(user, symbol)"
   ]
  },
  {
   "cell_type": "code",
   "execution_count": 273,
   "metadata": {},
   "outputs": [
    {
     "data": {
      "text/plain": [
       "create_profit_order_dict (generic function with 1 method)"
      ]
     },
     "execution_count": 273,
     "metadata": {},
     "output_type": "execute_result"
    }
   ],
   "source": [
    "create_open_order_dict(symbol, side, quantity, price, positionSide) = create_order_dict(symbol, \"LIMIT\", side; quantity=quantity, price=price, newClientOrderId=\"open\", positionSide=positionSide)\n",
    "create_stop_order_dict(symbol, side, quantity, stopPrice, positionSide) = create_order_dict(symbol, \"STOP_MARKET\", side; quantity=quantity, stopPrice=stopPrice, newClientOrderId=\"stop\", positionSide=positionSide)\n",
    "create_profit_order_dict(symbol, side, quantity, price, positionSide) = create_order_dict(symbol, \"profit\", side; quantity=quantity, price=price, newClientOrderId=\"profit\", positionSide=positionSide)"
   ]
  },
  {
   "cell_type": "code",
   "execution_count": 270,
   "metadata": {},
   "outputs": [
    {
     "name": "stdout",
     "output_type": "stream",
     "text": [
      "BUY ETCUSDT 0.2 qty @ 32.6 price.\n",
      "SELL ETCUSDT 0.2 qty @ 0.0 price.\n",
      "SELL ETCUSDT 0.2 qty @ 0.0 price.\n"
     ]
    },
    {
     "data": {
      "text/plain": [
       "Dict{String, Any} with 10 entries:\n",
       "  \"workingType\"      => \"CONTRACT_PRICE\"\n",
       "  \"stopPrice\"        => 32.589\n",
       "  \"side\"             => \"SELL\"\n",
       "  \"newOrderRespType\" => \"RESULT\"\n",
       "  \"symbol\"           => \"ETCUSDT\"\n",
       "  \"priceProtect\"     => \"FALSE\"\n",
       "  \"newClientOrderId\" => \"take_profit\"\n",
       "  \"type\"             => \"TAKE_PROFIT_MARKET\"\n",
       "  \"quantity\"         => 0.2\n",
       "  \"positionSide\"     => \"LONG\""
      ]
     },
     "execution_count": 270,
     "metadata": {},
     "output_type": "execute_result"
    }
   ],
   "source": [
    "limit_open_order_dict = create_order_dict(coin_pair[], \"LIMIT\", \"BUY\";\n",
    "    quantity=0.2, price=32.6, newClientOrderId=\"limit_open\", positionSide=\"LONG\")\n",
    "\n",
    "\n",
    "stop_order_dict = create_order_dict(coin_pair[], \"STOP_MARKET\", \"SELL\";\n",
    "    quantity=0.2, stopPrice=32.516, newClientOrderId=\"stop\",\n",
    "    positionSide=\"LONG\")\n",
    "\n",
    "profit_order_dict = create_order_dict(coin_pair[], \"profit_MARKET\", \"SELL\";\n",
    "    quantity=0.2, stopPrice=32.589, newClientOrderId=\"profit\",\n",
    "    positionSide=\"LONG\")"
   ]
  },
  {
   "cell_type": "code",
   "execution_count": 271,
   "metadata": {},
   "outputs": [
    {
     "data": {
      "text/plain": [
       "Dict{String, Any} with 2 entries:\n",
       "  \"msg\"  => \"The operation of cancel all open order is done.\"\n",
       "  \"code\" => 200"
      ]
     },
     "execution_count": 271,
     "metadata": {},
     "output_type": "execute_result"
    }
   ],
   "source": [
    "cancel_all_open_orders(user, symbol)"
   ]
  },
  {
   "cell_type": "code",
   "execution_count": 272,
   "metadata": {},
   "outputs": [
    {
     "data": {
      "text/plain": [
       "Dict{String, Any} with 21 entries:\n",
       "  \"price\"         => \"32.600\"\n",
       "  \"timeInForce\"   => \"GTC\"\n",
       "  \"priceProtect\"  => false\n",
       "  \"orderId\"       => 13519527573\n",
       "  \"executedQty\"   => \"0\"\n",
       "  \"updateTime\"    => 1661939062120\n",
       "  \"clientOrderId\" => \"limit_open\"\n",
       "  \"stopPrice\"     => \"0\"\n",
       "  \"status\"        => \"NEW\"\n",
       "  \"origType\"      => \"LIMIT\"\n",
       "  \"avgPrice\"      => \"0.00000\"\n",
       "  \"cumQty\"        => \"0\"\n",
       "  \"cumQuote\"      => \"0\"\n",
       "  \"reduceOnly\"    => false\n",
       "  \"closePosition\" => false\n",
       "  \"symbol\"        => \"ETCUSDT\"\n",
       "  \"positionSide\"  => \"LONG\"\n",
       "  \"origQty\"       => \"0.20\"\n",
       "  \"side\"          => \"BUY\"\n",
       "  \"workingType\"   => \"CONTRACT_PRICE\"\n",
       "  \"type\"          => \"LIMIT\""
      ]
     },
     "execution_count": 272,
     "metadata": {},
     "output_type": "execute_result"
    }
   ],
   "source": [
    "order1 = execute_order(limit_open_order_dict, user)"
   ]
  },
  {
   "cell_type": "code",
   "execution_count": 256,
   "metadata": {},
   "outputs": [
    {
     "data": {
      "text/plain": [
       "Dict{String, Any} with 21 entries:\n",
       "  \"price\"         => \"0\"\n",
       "  \"timeInForce\"   => \"GTC\"\n",
       "  \"priceProtect\"  => false\n",
       "  \"orderId\"       => 13519195798\n",
       "  \"executedQty\"   => \"0\"\n",
       "  \"updateTime\"    => 1661938173382\n",
       "  \"clientOrderId\" => \"stop\"\n",
       "  \"stopPrice\"     => \"32.516\"\n",
       "  \"status\"        => \"NEW\"\n",
       "  \"origType\"      => \"STOP_MARKET\"\n",
       "  \"avgPrice\"      => \"0.00000\"\n",
       "  \"cumQty\"        => \"0\"\n",
       "  \"cumQuote\"      => \"0\"\n",
       "  \"reduceOnly\"    => true\n",
       "  \"closePosition\" => false\n",
       "  \"symbol\"        => \"ETCUSDT\"\n",
       "  \"positionSide\"  => \"LONG\"\n",
       "  \"origQty\"       => \"0.20\"\n",
       "  \"side\"          => \"SELL\"\n",
       "  \"workingType\"   => \"CONTRACT_PRICE\"\n",
       "  \"type\"          => \"STOP_MARKET\""
      ]
     },
     "execution_count": 256,
     "metadata": {},
     "output_type": "execute_result"
    }
   ],
   "source": [
    "order2 = execute_order(stop_order_dict, user)"
   ]
  },
  {
   "cell_type": "code",
   "execution_count": 257,
   "metadata": {},
   "outputs": [
    {
     "data": {
      "text/plain": [
       "Dict{String, Any} with 21 entries:\n",
       "  \"price\"         => \"0\"\n",
       "  \"timeInForce\"   => \"GTC\"\n",
       "  \"priceProtect\"  => false\n",
       "  \"orderId\"       => 13519195976\n",
       "  \"executedQty\"   => \"0\"\n",
       "  \"updateTime\"    => 1661938174414\n",
       "  \"clientOrderId\" => \"take_profit\"\n",
       "  \"stopPrice\"     => \"32.589\"\n",
       "  \"status\"        => \"NEW\"\n",
       "  \"origType\"      => \"TAKE_PROFIT_MARKET\"\n",
       "  \"avgPrice\"      => \"0.00000\"\n",
       "  \"cumQty\"        => \"0\"\n",
       "  \"cumQuote\"      => \"0\"\n",
       "  \"reduceOnly\"    => true\n",
       "  \"closePosition\" => false\n",
       "  \"symbol\"        => \"ETCUSDT\"\n",
       "  \"positionSide\"  => \"LONG\"\n",
       "  \"origQty\"       => \"0.20\"\n",
       "  \"side\"          => \"SELL\"\n",
       "  \"workingType\"   => \"CONTRACT_PRICE\"\n",
       "  \"type\"          => \"TAKE_PROFIT_MARKET\""
      ]
     },
     "execution_count": 257,
     "metadata": {},
     "output_type": "execute_result"
    }
   ],
   "source": [
    "order3 = execute_order(profit_order_dict, user)"
   ]
  },
  {
   "cell_type": "code",
   "execution_count": 189,
   "metadata": {},
   "outputs": [
    {
     "data": {
      "text/plain": [
       "Dict{String, Any} with 21 entries:\n",
       "  \"price\"         => \"32.621\"\n",
       "  \"timeInForce\"   => \"GTC\"\n",
       "  \"time\"          => 1661936497263\n",
       "  \"priceProtect\"  => false\n",
       "  \"orderId\"       => 13518486479\n",
       "  \"executedQty\"   => \"0.20\"\n",
       "  \"updateTime\"    => 1661936532898\n",
       "  \"clientOrderId\" => \"limit_open\"\n",
       "  \"stopPrice\"     => \"0\"\n",
       "  \"status\"        => \"FILLED\"\n",
       "  \"origType\"      => \"LIMIT\"\n",
       "  \"avgPrice\"      => \"32.62100\"\n",
       "  \"cumQuote\"      => \"6.52420\"\n",
       "  \"reduceOnly\"    => false\n",
       "  \"closePosition\" => false\n",
       "  \"symbol\"        => \"ETCUSDT\"\n",
       "  \"positionSide\"  => \"LONG\"\n",
       "  \"origQty\"       => \"0.20\"\n",
       "  \"side\"          => \"BUY\"\n",
       "  \"workingType\"   => \"CONTRACT_PRICE\"\n",
       "  \"type\"          => \"LIMIT\""
      ]
     },
     "execution_count": 189,
     "metadata": {},
     "output_type": "execute_result"
    }
   ],
   "source": [
    "query_order(user, coin_pair[], clientOrderId=\"limit_open\")"
   ]
  },
  {
   "cell_type": "code",
   "execution_count": 195,
   "metadata": {},
   "outputs": [
    {
     "data": {
      "text/plain": [
       "Dict{String, Any} with 21 entries:\n",
       "  \"price\"         => \"0\"\n",
       "  \"timeInForce\"   => \"GTC\"\n",
       "  \"time\"          => 1661936747645\n",
       "  \"priceProtect\"  => false\n",
       "  \"orderId\"       => 13518595313\n",
       "  \"executedQty\"   => \"0\"\n",
       "  \"updateTime\"    => 1661936747645\n",
       "  \"clientOrderId\" => \"stop\"\n",
       "  \"stopPrice\"     => \"32.516\"\n",
       "  \"status\"        => \"NEW\"\n",
       "  \"origType\"      => \"STOP_MARKET\"\n",
       "  \"avgPrice\"      => \"0.00000\"\n",
       "  \"cumQuote\"      => \"0\"\n",
       "  \"reduceOnly\"    => true\n",
       "  \"closePosition\" => false\n",
       "  \"symbol\"        => \"ETCUSDT\"\n",
       "  \"positionSide\"  => \"LONG\"\n",
       "  \"origQty\"       => \"0.32\"\n",
       "  \"side\"          => \"SELL\"\n",
       "  \"workingType\"   => \"CONTRACT_PRICE\"\n",
       "  \"type\"          => \"STOP_MARKET\""
      ]
     },
     "execution_count": 195,
     "metadata": {},
     "output_type": "execute_result"
    }
   ],
   "source": [
    "query_order(user, coin_pair[], clientOrderId=\"stop\")"
   ]
  },
  {
   "cell_type": "code",
   "execution_count": 191,
   "metadata": {},
   "outputs": [
    {
     "data": {
      "text/plain": [
       "Dict{String, Any} with 21 entries:\n",
       "  \"price\"         => \"33.999\"\n",
       "  \"timeInForce\"   => \"GTC\"\n",
       "  \"time\"          => 1661936617470\n",
       "  \"priceProtect\"  => false\n",
       "  \"orderId\"       => 13518545068\n",
       "  \"executedQty\"   => \"0\"\n",
       "  \"updateTime\"    => 1661936617470\n",
       "  \"clientOrderId\" => \"take_profit\"\n",
       "  \"stopPrice\"     => \"32.699\"\n",
       "  \"status\"        => \"NEW\"\n",
       "  \"origType\"      => \"TAKE_PROFIT\"\n",
       "  \"avgPrice\"      => \"0.00000\"\n",
       "  \"cumQuote\"      => \"0\"\n",
       "  \"reduceOnly\"    => true\n",
       "  \"closePosition\" => false\n",
       "  \"symbol\"        => \"ETCUSDT\"\n",
       "  \"positionSide\"  => \"LONG\"\n",
       "  \"origQty\"       => \"0.32\"\n",
       "  \"side\"          => \"SELL\"\n",
       "  \"workingType\"   => \"CONTRACT_PRICE\"\n",
       "  \"type\"          => \"TAKE_PROFIT\""
      ]
     },
     "execution_count": 191,
     "metadata": {},
     "output_type": "execute_result"
    }
   ],
   "source": [
    "query_order(user, coin_pair[], clientOrderId=\"profit\")"
   ]
  },
  {
   "cell_type": "code",
   "execution_count": 200,
   "metadata": {},
   "outputs": [
    {
     "data": {
      "text/plain": [
       "Dict{String, Any} with 2 entries:\n",
       "  \"msg\"  => \"The operation of cancel all open order is done.\"\n",
       "  \"code\" => 200"
      ]
     },
     "execution_count": 200,
     "metadata": {},
     "output_type": "execute_result"
    }
   ],
   "source": [
    "cancel_all_open_orders(user, symbol)"
   ]
  },
  {
   "cell_type": "code",
   "execution_count": 357,
   "metadata": {},
   "outputs": [
    {
     "data": {
      "text/plain": [
       "2-element Vector{Any}:\n",
       " Dict{String, Any}(\"isolatedMargin\" => \"0.00000000\", \"updateTime\" => 1661957552320, \"maxNotionalValue\" => \"10000\", \"liquidationPrice\" => \"0\", \"marginType\" => \"isolated\", \"notional\" => \"0\", \"isAutoAddMargin\" => \"false\", \"symbol\" => \"ETCUSDT\", \"positionAmt\" => \"0.00\", \"positionSide\" => \"LONG\"…)\n",
       " Dict{String, Any}(\"isolatedMargin\" => \"0.14424838\", \"updateTime\" => 1661958135045, \"maxNotionalValue\" => \"10000\", \"liquidationPrice\" => \"32.58245594\", \"marginType\" => \"isolated\", \"notional\" => \"-6.41460000\", \"isAutoAddMargin\" => \"false\", \"symbol\" => \"ETCUSDT\", \"positionAmt\" => \"-0.20\", \"positionSide\" => \"SHORT\"…)"
      ]
     },
     "execution_count": 357,
     "metadata": {},
     "output_type": "execute_result"
    }
   ],
   "source": [
    "tt = get_position(user, symbol)"
   ]
  },
  {
   "cell_type": "code",
   "execution_count": 358,
   "metadata": {},
   "outputs": [
    {
     "data": {
      "text/plain": [
       "Dict{String, Any} with 15 entries:\n",
       "  \"isolatedMargin\"   => \"0.14424838\"\n",
       "  \"updateTime\"       => 1661958135045\n",
       "  \"maxNotionalValue\" => \"10000\"\n",
       "  \"liquidationPrice\" => \"32.58245594\"\n",
       "  \"marginType\"       => \"isolated\"\n",
       "  \"notional\"         => \"-6.41460000\"\n",
       "  \"isAutoAddMargin\"  => \"false\"\n",
       "  \"symbol\"           => \"ETCUSDT\"\n",
       "  \"positionAmt\"      => \"-0.20\"\n",
       "  \"positionSide\"     => \"SHORT\"\n",
       "  \"markPrice\"        => \"32.07300000\"\n",
       "  \"entryPrice\"       => \"32.368\"\n",
       "  \"leverage\"         => \"75\"\n",
       "  \"unRealizedProfit\" => \"0.05900000\"\n",
       "  \"isolatedWallet\"   => \"0.08524838\""
      ]
     },
     "execution_count": 358,
     "metadata": {},
     "output_type": "execute_result"
    }
   ],
   "source": [
    "tt[2]"
   ]
  },
  {
   "cell_type": "code",
   "execution_count": 359,
   "metadata": {},
   "outputs": [
    {
     "data": {
      "text/plain": [
       "Dict{String, Any} with 15 entries:\n",
       "  \"isolatedMargin\"   => \"0.00000000\"\n",
       "  \"updateTime\"       => 1661957552320\n",
       "  \"maxNotionalValue\" => \"10000\"\n",
       "  \"liquidationPrice\" => \"0\"\n",
       "  \"marginType\"       => \"isolated\"\n",
       "  \"notional\"         => \"0\"\n",
       "  \"isAutoAddMargin\"  => \"false\"\n",
       "  \"symbol\"           => \"ETCUSDT\"\n",
       "  \"positionAmt\"      => \"0.00\"\n",
       "  \"positionSide\"     => \"LONG\"\n",
       "  \"markPrice\"        => \"32.07300000\"\n",
       "  \"entryPrice\"       => \"0.0\"\n",
       "  \"leverage\"         => \"75\"\n",
       "  \"unRealizedProfit\" => \"0.00000000\"\n",
       "  \"isolatedWallet\"   => \"0\""
      ]
     },
     "execution_count": 359,
     "metadata": {},
     "output_type": "execute_result"
    }
   ],
   "source": [
    "tt[1]"
   ]
  },
  {
   "cell_type": "code",
   "execution_count": 367,
   "metadata": {},
   "outputs": [
    {
     "data": {
      "text/plain": [
       "get_current_position (generic function with 1 method)"
      ]
     },
     "execution_count": 367,
     "metadata": {},
     "output_type": "execute_result"
    }
   ],
   "source": [
    "function get_current_position(user, symbol)\n",
    "    position = get_position(user, symbol)\n",
    "    filter(x->(string2float(x[\"isolatedMargin\"])>0.0), position)[1]\n",
    "end\n"
   ]
  },
  {
   "cell_type": "code",
   "execution_count": 371,
   "metadata": {},
   "outputs": [
    {
     "data": {
      "text/plain": [
       "Observable{String} with 0 listeners. Value:\n",
       "\"0.02920000\""
      ]
     },
     "execution_count": 371,
     "metadata": {},
     "output_type": "execute_result"
    }
   ],
   "source": []
  },
  {
   "cell_type": "code",
   "execution_count": null,
   "metadata": {},
   "outputs": [],
   "source": []
  }
 ],
 "metadata": {
  "kernelspec": {
   "display_name": "Julia 1.8.0",
   "language": "julia",
   "name": "julia-1.8"
  },
  "language_info": {
   "file_extension": ".jl",
   "mimetype": "application/julia",
   "name": "julia",
   "version": "1.8.0"
  },
  "orig_nbformat": 4
 },
 "nbformat": 4,
 "nbformat_minor": 2
}
